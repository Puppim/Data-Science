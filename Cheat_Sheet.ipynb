{
 "cells": [
  {
   "cell_type": "markdown",
   "metadata": {},
   "source": [
    "<a id='index'></a>\n",
    "# Puppim's Cheat Sheet  \n",
    "## INDEX\n",
    "\n",
    "\n",
    "- <a href='#command00'>Basic imports</a>\n",
    "- <a href='#command01'>Open CSV</a>\n",
    "- <a href='#command02'>List x items from above or below</a>\n",
    "- <a href='#command03'>Types</a>\n",
    "- <a href='#command04'>Sum missing</a>\n",
    "- <a href='#command05'>Show all columns</a>\n",
    "- <a href='#command06'>Remove blancks</a>\n",
    "- <a href='#command07'>Query</a>\n",
    "- <a href='#command08'>To datatime</a>\n",
    "- <a href='#command09'>Map in function / Apply</a>\n",
    "- <a href='#command10'>Groupby and count</a>\n",
    "\n"
   ]
  },
  {
   "cell_type": "markdown",
   "metadata": {},
   "source": [
    "### Basic import  \n",
    "<a id='command00'></a>\n",
    "<a href='#index'>back</a>\n"
   ]
  },
  {
   "cell_type": "code",
   "execution_count": 2,
   "metadata": {},
   "outputs": [],
   "source": [
    "%matplotlib inline\n",
    "import numpy as numpy\n",
    "import matplotlib.pyplot as plt\n",
    "import pandas as pd"
   ]
  },
  {
   "cell_type": "markdown",
   "metadata": {},
   "source": [
    "### Open CSV\n",
    "<a href='#index'>&#8592; back</a>"
   ]
  },
  {
   "cell_type": "code",
   "execution_count": null,
   "metadata": {},
   "outputs": [],
   "source": [
    "df = pd.read_csv('namefile.csv', sep=\";\")"
   ]
  },
  {
   "cell_type": "markdown",
   "metadata": {},
   "source": [
    "### List 'x' items from above or below\n",
    "<a id='command02'></a>\n",
    "<a href='#index'>&#8592; back</a>"
   ]
  },
  {
   "cell_type": "code",
   "execution_count": null,
   "metadata": {},
   "outputs": [],
   "source": [
    "df.head(4) #four above\n",
    "df.tail(3) #tree below"
   ]
  },
  {
   "cell_type": "markdown",
   "metadata": {},
   "source": [
    "### Types\n",
    "<a id='command03'></a>\n",
    "<a href='#index'>&#8592; back</a>"
   ]
  },
  {
   "cell_type": "code",
   "execution_count": null,
   "metadata": {},
   "outputs": [],
   "source": [
    "df.dtypes"
   ]
  },
  {
   "cell_type": "markdown",
   "metadata": {},
   "source": [
    "### Sum missing\n",
    "<a id='command04'></a>\n",
    "<a href='#index'>&#8592; back</a>"
   ]
  },
  {
   "cell_type": "code",
   "execution_count": null,
   "metadata": {},
   "outputs": [],
   "source": [
    "df.isna().sum() "
   ]
  },
  {
   "cell_type": "markdown",
   "metadata": {},
   "source": [
    "### Show all columns\n",
    "<a id='command05'></a>\n",
    "<a href='#index'>&#8592; back</a>"
   ]
  },
  {
   "cell_type": "code",
   "execution_count": null,
   "metadata": {},
   "outputs": [],
   "source": [
    "pd.set_option('display.max_columns', None)"
   ]
  },
  {
   "cell_type": "markdown",
   "metadata": {},
   "source": [
    "### Remove blancks\n",
    "<a id='command06'></a>\n",
    "<a href='#index'>&#8592; back</a>"
   ]
  },
  {
   "cell_type": "code",
   "execution_count": null,
   "metadata": {},
   "outputs": [],
   "source": [
    "cols = df.columns\n",
    "cols = cols.map(lambda x: x.replace(' ','_')if isinstance(x, (str)) else x)\n",
    "df.columns = cols"
   ]
  },
  {
   "cell_type": "markdown",
   "metadata": {},
   "source": [
    "### Query   \n",
    "<a id='command07'></a>\n",
    "<a href='#index'>&#8592; back</a>"
   ]
  },
  {
   "cell_type": "code",
   "execution_count": null,
   "metadata": {},
   "outputs": [],
   "source": [
    "df.query('col1 > 1 & col2 <4')\n",
    "df.query('namecolummn <= 10')\n",
    "\n",
    "#or\n",
    "\n",
    "df[df['created_at'].dt.year == 2018]"
   ]
  },
  {
   "cell_type": "markdown",
   "metadata": {},
   "source": [
    "### to datatime  \n",
    "<a id='command08'></a>\n",
    "<a href='#index'>&#8592; back</a>"
   ]
  },
  {
   "cell_type": "code",
   "execution_count": null,
   "metadata": {},
   "outputs": [],
   "source": [
    "df.Data = pd.to_datetime(df.Data)"
   ]
  },
  {
   "cell_type": "markdown",
   "metadata": {},
   "source": [
    "### Map in function / Apply\n",
    "<a id='command09'></a>\n",
    "<a href='#index'>&#8592; back</a>"
   ]
  },
  {
   "cell_type": "code",
   "execution_count": null,
   "metadata": {},
   "outputs": [],
   "source": [
    "review_points_mean = reviews.points.mean()\n",
    "reviews.points.map(lambda p: p - review_points_mean)\n",
    "\n",
    "def remean_points(row):\n",
    "    row.points = row.points - review_points_mean\n",
    "    return row\n",
    "\n",
    "reviews.apply(remean_points, axis='columns')"
   ]
  },
  {
   "cell_type": "markdown",
   "metadata": {},
   "source": [
    "### Groupby and count\n",
    "<a id='command10'></a>\n",
    "<a href='#index'>&#8592; back</a>"
   ]
  },
  {
   "cell_type": "code",
   "execution_count": 12,
   "metadata": {},
   "outputs": [
    {
     "data": {
      "text/html": [
       "<a id='command02'></a>\n"
      ],
      "text/plain": [
       "<IPython.core.display.HTML object>"
      ]
     },
     "metadata": {},
     "output_type": "display_data"
    }
   ],
   "source": [
    "# groupby and count\n",
    "\n",
    "reviews.groupby('points').points.count()\n",
    "reviews.groupby('points').price.min()\n",
    "\n",
    "# groupby max\n",
    "\n",
    "reviews.groupby(['country', 'province']).apply(lambda df: df.loc[df.points.idxmax()])\n",
    "reviews.groupby(['country']).price.agg([len, min, max])"
   ]
  }
 ],
 "metadata": {
  "kernelspec": {
   "display_name": "Python 3",
   "language": "python",
   "name": "python3"
  },
  "language_info": {
   "codemirror_mode": {
    "name": "ipython",
    "version": 3
   },
   "file_extension": ".py",
   "mimetype": "text/x-python",
   "name": "python",
   "nbconvert_exporter": "python",
   "pygments_lexer": "ipython3",
   "version": "3.8.2"
  }
 },
 "nbformat": 4,
 "nbformat_minor": 2
}
